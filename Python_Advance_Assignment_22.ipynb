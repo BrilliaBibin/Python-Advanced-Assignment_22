{
  "nbformat": 4,
  "nbformat_minor": 0,
  "metadata": {
    "colab": {
      "provenance": []
    },
    "kernelspec": {
      "name": "python3",
      "display_name": "Python 3"
    },
    "language_info": {
      "name": "python"
    }
  },
  "cells": [
    {
      "cell_type": "markdown",
      "source": [
        "Q1. What are the benefits of the built-in array package, if any?\n",
        "\n",
        "  Arrays represent multiple data items of the same type using a single\n",
        "name.In arrays, the elements can be accessed randomly by using the index number. Arrays allocate memory in contiguous memory locations for all its elements. Hence there is no chance of extra memory being allocated in case of arrays. This avoids memory overflow or shortage of memory in arrays."
      ],
      "metadata": {
        "id": "BduJkH9SvwUB"
      }
    },
    {
      "cell_type": "markdown",
      "source": [
        "Q2. What are some of the array package's limitations?\n",
        "\n",
        "  The number of elements to be stored in an array should be known in\n",
        "advance. An array is a static structure (which means the array is of fixed size). Once declared the size of the array cannot be modified. The memory which is allocated to it cannot be increased or decreased. Insertion and deletion are quite difficult in an array as the elements are stored in consecutive memory locations and the shifting operation is costly. Allocating more memory than the requirement leads to wastage of memory space and less allocation of memory also leads to a problem."
      ],
      "metadata": {
        "id": "jsVDOJbhwAza"
      }
    },
    {
      "cell_type": "markdown",
      "source": [
        "Q3. Describe the main differences between the array and numpy packages.\n",
        "\n",
        "  The array package doesn't provide any help with numerical calculation\n",
        "with the items insdie it in number form while NumPy give you a wide variety of numerical operations. An array is a single dimensional entity which hold the numerical data, while numpy can have more than 1 dimension.In case of array, item can be accessed by its index position and it is easy task while in numpy item is accessed by its column and row index, which makes it slightly time taking. Same goes with appending operation.In case of array we do not form a tabular structure, while in numpy it forms a tabular structure."
      ],
      "metadata": {
        "id": "QtZVJFrmwQ77"
      }
    },
    {
      "cell_type": "markdown",
      "source": [
        "Q4. Explain the distinctions between the empty, ones, and zeros functions.\n",
        "\n",
        "  Empty function: An empty function is a function that does not contain\n",
        "any statement within its body. If you try to write a function definition without any statement in python ,it will return an error. To avoid this,we use pass statement. pass is a special statement in Python that does nothing. It only works as a dummy statement ones: This function returns a new array of given shape and data type, where the element’s value is 1.\n",
        "  zeros: This function returns a new array of given shape and data\n",
        "type, where the element’s value is 0"
      ],
      "metadata": {
        "id": "5CtjeQ8KwoQ3"
      }
    },
    {
      "cell_type": "markdown",
      "source": [
        "Q5. In the fromfunction function, which is used to construct new arrays, what is the role of the callable argument?\n",
        "\n",
        "  Its function is to execute the function over each coordinate and the\n",
        "resulting array. The function is called with N parameters, where N is the rank of shape. Each parameter represents the coordinates of the array varying along a specific axis."
      ],
      "metadata": {
        "id": "Xy4n87jOw9_M"
      }
    },
    {
      "cell_type": "markdown",
      "source": [
        "Q6. What happens when a numpy array is combined with a single-value operand (a scalar, such as an int or a floating-point value) through addition, as in the expression A + n?\n",
        "\n",
        "  If any scaler value such as integer is added to the numpy array then\n",
        "all the elements inside the array will add that value in it.\n",
        "Example :"
      ],
      "metadata": {
        "id": "ulbEJqJkxLLg"
      }
    },
    {
      "cell_type": "code",
      "execution_count": 1,
      "metadata": {
        "colab": {
          "base_uri": "https://localhost:8080/"
        },
        "id": "plFb3A0vvEdt",
        "outputId": "a4b75df5-834a-4ffb-816c-a6939e44e9eb"
      },
      "outputs": [
        {
          "output_type": "stream",
          "name": "stdout",
          "text": [
            "[[0 1 2]\n",
            " [3 4 5]\n",
            " [6 7 8]]\n",
            "\n",
            "[[1 2 3]\n",
            " [4 5 6]\n",
            " [7 8 9]]\n"
          ]
        }
      ],
      "source": [
        "import numpy as np\n",
        "a=np.arange(9).reshape(3,3)\n",
        "print(a)\n",
        "print()\n",
        "print(a+1)"
      ]
    },
    {
      "cell_type": "markdown",
      "source": [
        "Q7. Can array-to-scalar operations use combined operation-assign operators (such as += or *=)? What is the outcome?\n",
        "\n",
        "  It will do the operation as per operators. Like if we use + operand\n",
        "it will update the current array by adding and when we use '*', it will update by multiplying."
      ],
      "metadata": {
        "id": "nDV7fytTx5po"
      }
    },
    {
      "cell_type": "code",
      "source": [
        "print(a)"
      ],
      "metadata": {
        "colab": {
          "base_uri": "https://localhost:8080/"
        },
        "id": "te9feBT0yDL-",
        "outputId": "72ce18df-c352-4807-df93-281d3caae1d6"
      },
      "execution_count": 3,
      "outputs": [
        {
          "output_type": "stream",
          "name": "stdout",
          "text": [
            "[[0 1 2]\n",
            " [3 4 5]\n",
            " [6 7 8]]\n"
          ]
        }
      ]
    },
    {
      "cell_type": "code",
      "source": [
        "a+=1\n",
        "print(a)"
      ],
      "metadata": {
        "colab": {
          "base_uri": "https://localhost:8080/"
        },
        "id": "--sJhErayMIt",
        "outputId": "d6acdc6d-6dce-4154-a6b2-fd7e9cffc567"
      },
      "execution_count": 4,
      "outputs": [
        {
          "output_type": "stream",
          "name": "stdout",
          "text": [
            "[[1 2 3]\n",
            " [4 5 6]\n",
            " [7 8 9]]\n"
          ]
        }
      ]
    },
    {
      "cell_type": "code",
      "source": [
        "a*=2\n",
        "print(a)"
      ],
      "metadata": {
        "colab": {
          "base_uri": "https://localhost:8080/"
        },
        "id": "ClFzx6QXxoCX",
        "outputId": "f97637c2-878d-403e-8953-e0eb3b6193d8"
      },
      "execution_count": 5,
      "outputs": [
        {
          "output_type": "stream",
          "name": "stdout",
          "text": [
            "[[ 2  4  6]\n",
            " [ 8 10 12]\n",
            " [14 16 18]]\n"
          ]
        }
      ]
    },
    {
      "cell_type": "markdown",
      "source": [
        "Q8. Does a numpy array contain fixed-length strings? What happens if you allocate a longer string to one of these arrays?\n",
        "\n",
        "  Yes it is possible that we can include a string of fixed length in\n",
        "numpy array. The dtype of any numpy array containing string values is the maximum length of any string present in the array. Once set, it will only be able to store new string having length not more than the maximum length at the time of the creation. If we try to reassign some another string value having length greater than the maximum length of the existing elements, it simply discards all the values beyond the maximum length accept upto those values which are under the limit."
      ],
      "metadata": {
        "id": "0M0sqHamyr_e"
      }
    },
    {
      "cell_type": "code",
      "source": [
        "import numpy as np\n",
        "name = np.array(['ram', 'mohan', 'shiva'])\n",
        "name"
      ],
      "metadata": {
        "colab": {
          "base_uri": "https://localhost:8080/"
        },
        "id": "TS7bv0s-y8s4",
        "outputId": "5fc41e9e-8641-4c2c-c2ad-4ce60794e610"
      },
      "execution_count": 6,
      "outputs": [
        {
          "output_type": "execute_result",
          "data": {
            "text/plain": [
              "array(['ram', 'mohan', 'shiva'], dtype='<U5')"
            ]
          },
          "metadata": {},
          "execution_count": 6
        }
      ]
    },
    {
      "cell_type": "code",
      "source": [
        "name[name=='ram']='undertaker'\n",
        "print(name)"
      ],
      "metadata": {
        "colab": {
          "base_uri": "https://localhost:8080/"
        },
        "id": "JrzoSXyuzEfS",
        "outputId": "0d0e3182-baa9-4751-ec94-8c7b40abfdfb"
      },
      "execution_count": 7,
      "outputs": [
        {
          "output_type": "stream",
          "name": "stdout",
          "text": [
            "['under' 'mohan' 'shiva']\n"
          ]
        }
      ]
    },
    {
      "cell_type": "markdown",
      "source": [
        "Q9. What happens when you combine two numpy arrays using an operation like addition (+) or multiplication (*)? What are the conditions for combining two numpy arrays?\n",
        "\n",
        "   It will simply add or multiply element to element at same position.\n",
        "The only requirement which must be met are:\n",
        "     1)Data type should be same.\n",
        "     2) Shape of the two matrices must be same\n",
        "Example is as follows :"
      ],
      "metadata": {
        "id": "NiofJJFkzKUo"
      }
    },
    {
      "cell_type": "code",
      "source": [
        "a1=a\n",
        "a1"
      ],
      "metadata": {
        "colab": {
          "base_uri": "https://localhost:8080/"
        },
        "id": "ypitbOC2zcEF",
        "outputId": "4aea4528-49e3-4a77-ae5a-85fa2fbc1aa1"
      },
      "execution_count": 8,
      "outputs": [
        {
          "output_type": "execute_result",
          "data": {
            "text/plain": [
              "array([[ 2,  4,  6],\n",
              "       [ 8, 10, 12],\n",
              "       [14, 16, 18]])"
            ]
          },
          "metadata": {},
          "execution_count": 8
        }
      ]
    },
    {
      "cell_type": "code",
      "source": [
        "a2=a+2\n",
        "a2"
      ],
      "metadata": {
        "colab": {
          "base_uri": "https://localhost:8080/"
        },
        "id": "hkUiR5JDzFIk",
        "outputId": "6fdf19a6-3857-4f71-cd39-0902878161f3"
      },
      "execution_count": 9,
      "outputs": [
        {
          "output_type": "execute_result",
          "data": {
            "text/plain": [
              "array([[ 4,  6,  8],\n",
              "       [10, 12, 14],\n",
              "       [16, 18, 20]])"
            ]
          },
          "metadata": {},
          "execution_count": 9
        }
      ]
    },
    {
      "cell_type": "code",
      "source": [
        "a1+a2"
      ],
      "metadata": {
        "colab": {
          "base_uri": "https://localhost:8080/"
        },
        "id": "ptXN-igvzhCr",
        "outputId": "d8a9550c-e765-4886-b971-9355c9fb8db2"
      },
      "execution_count": 10,
      "outputs": [
        {
          "output_type": "execute_result",
          "data": {
            "text/plain": [
              "array([[ 6, 10, 14],\n",
              "       [18, 22, 26],\n",
              "       [30, 34, 38]])"
            ]
          },
          "metadata": {},
          "execution_count": 10
        }
      ]
    },
    {
      "cell_type": "code",
      "source": [
        "a1*a2"
      ],
      "metadata": {
        "colab": {
          "base_uri": "https://localhost:8080/"
        },
        "id": "TE_MCWL-zkma",
        "outputId": "8237c5e6-9adf-42e0-e36c-3061aa72f340"
      },
      "execution_count": 11,
      "outputs": [
        {
          "output_type": "execute_result",
          "data": {
            "text/plain": [
              "array([[  8,  24,  48],\n",
              "       [ 80, 120, 168],\n",
              "       [224, 288, 360]])"
            ]
          },
          "metadata": {},
          "execution_count": 11
        }
      ]
    },
    {
      "cell_type": "code",
      "source": [
        "a1+a2.reshape(9,1)"
      ],
      "metadata": {
        "colab": {
          "base_uri": "https://localhost:8080/",
          "height": 181
        },
        "id": "YU4GF4X5zonm",
        "outputId": "50f1ad5b-48d4-4425-a57a-9cab393f78c1"
      },
      "execution_count": 12,
      "outputs": [
        {
          "output_type": "error",
          "ename": "ValueError",
          "evalue": "ignored",
          "traceback": [
            "\u001b[0;31m---------------------------------------------------------------------------\u001b[0m",
            "\u001b[0;31mValueError\u001b[0m                                Traceback (most recent call last)",
            "\u001b[0;32m<ipython-input-12-f24d236b5a9f>\u001b[0m in \u001b[0;36m<cell line: 1>\u001b[0;34m()\u001b[0m\n\u001b[0;32m----> 1\u001b[0;31m \u001b[0ma1\u001b[0m\u001b[0;34m+\u001b[0m\u001b[0ma2\u001b[0m\u001b[0;34m.\u001b[0m\u001b[0mreshape\u001b[0m\u001b[0;34m(\u001b[0m\u001b[0;36m9\u001b[0m\u001b[0;34m,\u001b[0m\u001b[0;36m1\u001b[0m\u001b[0;34m)\u001b[0m\u001b[0;34m\u001b[0m\u001b[0;34m\u001b[0m\u001b[0m\n\u001b[0m",
            "\u001b[0;31mValueError\u001b[0m: operands could not be broadcast together with shapes (3,3) (9,1) "
          ]
        }
      ]
    },
    {
      "cell_type": "code",
      "source": [
        "a1*a2.reshape(9,1)"
      ],
      "metadata": {
        "colab": {
          "base_uri": "https://localhost:8080/",
          "height": 181
        },
        "id": "8nfSVp09zz03",
        "outputId": "b26f09a4-acad-4691-e7c8-ace1cd8ef40c"
      },
      "execution_count": 13,
      "outputs": [
        {
          "output_type": "error",
          "ename": "ValueError",
          "evalue": "ignored",
          "traceback": [
            "\u001b[0;31m---------------------------------------------------------------------------\u001b[0m",
            "\u001b[0;31mValueError\u001b[0m                                Traceback (most recent call last)",
            "\u001b[0;32m<ipython-input-13-4ba0754c30f9>\u001b[0m in \u001b[0;36m<cell line: 1>\u001b[0;34m()\u001b[0m\n\u001b[0;32m----> 1\u001b[0;31m \u001b[0ma1\u001b[0m\u001b[0;34m*\u001b[0m\u001b[0ma2\u001b[0m\u001b[0;34m.\u001b[0m\u001b[0mreshape\u001b[0m\u001b[0;34m(\u001b[0m\u001b[0;36m9\u001b[0m\u001b[0;34m,\u001b[0m\u001b[0;36m1\u001b[0m\u001b[0;34m)\u001b[0m\u001b[0;34m\u001b[0m\u001b[0;34m\u001b[0m\u001b[0m\n\u001b[0m",
            "\u001b[0;31mValueError\u001b[0m: operands could not be broadcast together with shapes (3,3) (9,1) "
          ]
        }
      ]
    },
    {
      "cell_type": "markdown",
      "source": [
        "Q10. What is the best way to use a Boolean array to mask another array?"
      ],
      "metadata": {
        "id": "Caje3K15z9dV"
      }
    },
    {
      "cell_type": "code",
      "source": [
        "y = np.array([True,True,False,True])\n",
        "x = np.array([1,2,3,4])\n",
        "m = np.ma.masked_where(x>2,y)\n",
        "print(list(m))\n",
        "print(m.ndim)"
      ],
      "metadata": {
        "colab": {
          "base_uri": "https://localhost:8080/"
        },
        "id": "KFLac_LSz2r1",
        "outputId": "39bfb579-3938-49a3-85df-66d17ad24c06"
      },
      "execution_count": 15,
      "outputs": [
        {
          "output_type": "stream",
          "name": "stdout",
          "text": [
            "[True, True, masked, masked]\n",
            "1\n"
          ]
        }
      ]
    },
    {
      "cell_type": "markdown",
      "source": [
        "Q11. What are three different ways to get the standard deviation of a wide collection of data using both standard Python and its packages? Sort the three of them by how quickly they execute.\n",
        "\n",
        "  Standard deviation can be calculated in amny ways. If wee see the\n",
        "formula of SD, it says  std= Square Root of [ Summation of [square of (x-mean)/number of observation] ] .So this can be achive by:\n",
        "1)Using math module :"
      ],
      "metadata": {
        "id": "qzBisw6x0mik"
      }
    },
    {
      "cell_type": "code",
      "source": [
        "# Python3 code to demonstrate working of\n",
        "# Standard deviation of list\n",
        "# Using sum() + list comprehension\n",
        "\n",
        "# initializing list\n",
        "test_list = [4, 5, 8, 9, 10]\n",
        "\n",
        "# printing list\n",
        "print(\"The original list : \" + str(test_list))\n",
        "\n",
        "# Standard deviation of list\n",
        "# Using sum() + list comprehension\n",
        "mean = sum(test_list) / len(test_list)\n",
        "variance = sum([((x - mean) ** 2) for x in test_list]) / len(test_list)\n",
        "res = variance ** 0.5\n",
        "\n",
        "# Printing result\n",
        "print(\"Standard deviation of sample is : \" + str(res))\n"
      ],
      "metadata": {
        "colab": {
          "base_uri": "https://localhost:8080/"
        },
        "id": "j8DKGVg704_3",
        "outputId": "274e8fdd-c199-4158-fc76-404dcb081556"
      },
      "execution_count": 18,
      "outputs": [
        {
          "output_type": "stream",
          "name": "stdout",
          "text": [
            "The original list : [4, 5, 8, 9, 10]\n",
            "Standard deviation of sample is : 2.3151673805580453\n"
          ]
        }
      ]
    },
    {
      "cell_type": "code",
      "source": [],
      "metadata": {
        "id": "eSbCPkYi1aIW"
      },
      "execution_count": null,
      "outputs": []
    }
  ]
}